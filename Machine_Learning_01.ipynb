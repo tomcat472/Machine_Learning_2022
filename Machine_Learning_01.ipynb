{
  "nbformat": 4,
  "nbformat_minor": 0,
  "metadata": {
    "colab": {
      "provenance": [],
      "collapsed_sections": [],
      "authorship_tag": "ABX9TyNUBB0zUWOVeWlcibx6wm+6",
      "include_colab_link": true
    },
    "kernelspec": {
      "name": "python3",
      "display_name": "Python 3"
    },
    "language_info": {
      "name": "python"
    }
  },
  "cells": [
    {
      "cell_type": "markdown",
      "metadata": {
        "id": "view-in-github",
        "colab_type": "text"
      },
      "source": [
        "<a href=\"https://colab.research.google.com/github/tomcat472/Machine_Learning_2022/blob/main/Machine_Learning_01.ipynb\" target=\"_parent\"><img src=\"https://colab.research.google.com/assets/colab-badge.svg\" alt=\"Open In Colab\"/></a>"
      ]
    },
    {
      "cell_type": "markdown",
      "source": [
        "# Linear Regression"
      ],
      "metadata": {
        "id": "Pcs9YjQ4vElT"
      }
    },
    {
      "cell_type": "markdown",
      "source": [
        "Regression is one of the most widely used statistical tools.\n",
        "(We have some set of features and we want to model how our observations that are associated with these features change as we change the values of the features.)\n",
        "ဒီမှာက ရှင်းတယ် ကိုယ့်လက်ထဲမှာရှိတဲ့ data set ကို features အပိုင်းကနေမူတည်ပြီး ကိုယ်ရချင်တဲ့ target ကိုတွက်ထုတ်မှာဖြစ်ပါတယ်။"
      ],
      "metadata": {
        "id": "dBfJ1UcrvLlu"
      }
    },
    {
      "cell_type": "markdown",
      "source": [
        "ပြီးတော့အရေးကြီးတာက observation နဲ့ prediction ကြားက ခြားနားချက်ကို error or residual လို့ခေါ်ပါတယ်။ fitted လိုင်းတွေဆိုပြီး ကိုယ်လုပ်တဲ့ prediction နဲ့ ကိုယ့်ဆီမှာရှိတဲ့ မူရင်းတန်ဘိုးကြားက ခြားနားချက်ကို လုပ်ပြီး ကိုယ်လုပ်ထားတာ တလွဲဖြစ်မဖြစ်ပြန်စစ်လို့ရပါတယ်။\n",
        "ကျန်တာတွေက တွက်ရင်းနဲ့ အသေးစိတ်ပြန်ရှင်းပြပေးပါမယ်။"
      ],
      "metadata": {
        "id": "fE_IqpYnw1La"
      }
    },
    {
      "cell_type": "code",
      "source": [
        "# စတွက်တော့မှာ ဆိုရင် ဒီအဆင့်တွေအတိုင်း ပုံမှန်ဆိုရင် တွက်ပါတယ်။\n",
        "# exploring our data and visualization\n",
        "# train and create a linear regression model\n",
        "# evaluate our model\n",
        "# make prediction\n",
        "# calculate RMSE"
      ],
      "metadata": {
        "id": "1BTSH1Hsv-c8"
      },
      "execution_count": 1,
      "outputs": []
    },
    {
      "cell_type": "code",
      "source": [
        "# python libraries များအား import လုပ်ခြင်း\n",
        "import pandas as pd\n",
        "import numpy as np\n",
        "import matplotlib.pyplot as plt\n",
        "import seaborn as sns\n",
        "%matplotlib inline\n",
        "\n",
        "import warnings\n",
        "warnings.filterwarnings('ignore')"
      ],
      "metadata": {
        "id": "7fTTyn-XwAkw"
      },
      "execution_count": 2,
      "outputs": []
    },
    {
      "cell_type": "code",
      "source": [
        "# မိမိအသုံးပြုမည့် data set အားဖွင့်ခြင်း\n",
        "# ကျနော်က google colab ကနေသုံးတာ ဆိုတော့ google drive က file ကိုယူသုံးမှာ ဖြစ်ပါတယ်။\n",
        "# github မှာတော့ file တင်ပေးထားပါတယ်။\n",
        "from google.colab import drive\n",
        "drive.mount('/content/drive')"
      ],
      "metadata": {
        "colab": {
          "base_uri": "https://localhost:8080/"
        },
        "id": "xiIBAZcvx1OF",
        "outputId": "2df1f9d3-b3b3-4be3-81af-b898187e3747"
      },
      "execution_count": 3,
      "outputs": [
        {
          "output_type": "stream",
          "name": "stdout",
          "text": [
            "Drive already mounted at /content/drive; to attempt to forcibly remount, call drive.mount(\"/content/drive\", force_remount=True).\n"
          ]
        }
      ]
    },
    {
      "cell_type": "code",
      "source": [
        "# dataset အားဖွင့်ခြင်း\n",
        "df=pd.read_csv('/content/drive/MyDrive/Notes-master/home_data.csv')\n",
        "df.head()"
      ],
      "metadata": {
        "colab": {
          "base_uri": "https://localhost:8080/",
          "height": 299
        },
        "id": "qjv-FjMRzSC_",
        "outputId": "5f286623-70ba-4d91-a957-ac57b4c70260"
      },
      "execution_count": 4,
      "outputs": [
        {
          "output_type": "execute_result",
          "data": {
            "text/plain": [
              "           id             date   price  bedrooms  bathrooms  sqft_living  \\\n",
              "0  7129300520  20141013T000000  221900         3       1.00         1180   \n",
              "1  6414100192  20141209T000000  538000         3       2.25         2570   \n",
              "2  5631500400  20150225T000000  180000         2       1.00          770   \n",
              "3  2487200875  20141209T000000  604000         4       3.00         1960   \n",
              "4  1954400510  20150218T000000  510000         3       2.00         1680   \n",
              "\n",
              "   sqft_lot  floors  waterfront  view  ...  grade  sqft_above  sqft_basement  \\\n",
              "0      5650     1.0           0     0  ...      7        1180              0   \n",
              "1      7242     2.0           0     0  ...      7        2170            400   \n",
              "2     10000     1.0           0     0  ...      6         770              0   \n",
              "3      5000     1.0           0     0  ...      7        1050            910   \n",
              "4      8080     1.0           0     0  ...      8        1680              0   \n",
              "\n",
              "   yr_built  yr_renovated  zipcode      lat     long  sqft_living15  \\\n",
              "0      1955             0    98178  47.5112 -122.257           1340   \n",
              "1      1951          1991    98125  47.7210 -122.319           1690   \n",
              "2      1933             0    98028  47.7379 -122.233           2720   \n",
              "3      1965             0    98136  47.5208 -122.393           1360   \n",
              "4      1987             0    98074  47.6168 -122.045           1800   \n",
              "\n",
              "   sqft_lot15  \n",
              "0        5650  \n",
              "1        7639  \n",
              "2        8062  \n",
              "3        5000  \n",
              "4        7503  \n",
              "\n",
              "[5 rows x 21 columns]"
            ],
            "text/html": [
              "\n",
              "  <div id=\"df-8ea20214-8bf1-456c-866b-6a0875344e5b\">\n",
              "    <div class=\"colab-df-container\">\n",
              "      <div>\n",
              "<style scoped>\n",
              "    .dataframe tbody tr th:only-of-type {\n",
              "        vertical-align: middle;\n",
              "    }\n",
              "\n",
              "    .dataframe tbody tr th {\n",
              "        vertical-align: top;\n",
              "    }\n",
              "\n",
              "    .dataframe thead th {\n",
              "        text-align: right;\n",
              "    }\n",
              "</style>\n",
              "<table border=\"1\" class=\"dataframe\">\n",
              "  <thead>\n",
              "    <tr style=\"text-align: right;\">\n",
              "      <th></th>\n",
              "      <th>id</th>\n",
              "      <th>date</th>\n",
              "      <th>price</th>\n",
              "      <th>bedrooms</th>\n",
              "      <th>bathrooms</th>\n",
              "      <th>sqft_living</th>\n",
              "      <th>sqft_lot</th>\n",
              "      <th>floors</th>\n",
              "      <th>waterfront</th>\n",
              "      <th>view</th>\n",
              "      <th>...</th>\n",
              "      <th>grade</th>\n",
              "      <th>sqft_above</th>\n",
              "      <th>sqft_basement</th>\n",
              "      <th>yr_built</th>\n",
              "      <th>yr_renovated</th>\n",
              "      <th>zipcode</th>\n",
              "      <th>lat</th>\n",
              "      <th>long</th>\n",
              "      <th>sqft_living15</th>\n",
              "      <th>sqft_lot15</th>\n",
              "    </tr>\n",
              "  </thead>\n",
              "  <tbody>\n",
              "    <tr>\n",
              "      <th>0</th>\n",
              "      <td>7129300520</td>\n",
              "      <td>20141013T000000</td>\n",
              "      <td>221900</td>\n",
              "      <td>3</td>\n",
              "      <td>1.00</td>\n",
              "      <td>1180</td>\n",
              "      <td>5650</td>\n",
              "      <td>1.0</td>\n",
              "      <td>0</td>\n",
              "      <td>0</td>\n",
              "      <td>...</td>\n",
              "      <td>7</td>\n",
              "      <td>1180</td>\n",
              "      <td>0</td>\n",
              "      <td>1955</td>\n",
              "      <td>0</td>\n",
              "      <td>98178</td>\n",
              "      <td>47.5112</td>\n",
              "      <td>-122.257</td>\n",
              "      <td>1340</td>\n",
              "      <td>5650</td>\n",
              "    </tr>\n",
              "    <tr>\n",
              "      <th>1</th>\n",
              "      <td>6414100192</td>\n",
              "      <td>20141209T000000</td>\n",
              "      <td>538000</td>\n",
              "      <td>3</td>\n",
              "      <td>2.25</td>\n",
              "      <td>2570</td>\n",
              "      <td>7242</td>\n",
              "      <td>2.0</td>\n",
              "      <td>0</td>\n",
              "      <td>0</td>\n",
              "      <td>...</td>\n",
              "      <td>7</td>\n",
              "      <td>2170</td>\n",
              "      <td>400</td>\n",
              "      <td>1951</td>\n",
              "      <td>1991</td>\n",
              "      <td>98125</td>\n",
              "      <td>47.7210</td>\n",
              "      <td>-122.319</td>\n",
              "      <td>1690</td>\n",
              "      <td>7639</td>\n",
              "    </tr>\n",
              "    <tr>\n",
              "      <th>2</th>\n",
              "      <td>5631500400</td>\n",
              "      <td>20150225T000000</td>\n",
              "      <td>180000</td>\n",
              "      <td>2</td>\n",
              "      <td>1.00</td>\n",
              "      <td>770</td>\n",
              "      <td>10000</td>\n",
              "      <td>1.0</td>\n",
              "      <td>0</td>\n",
              "      <td>0</td>\n",
              "      <td>...</td>\n",
              "      <td>6</td>\n",
              "      <td>770</td>\n",
              "      <td>0</td>\n",
              "      <td>1933</td>\n",
              "      <td>0</td>\n",
              "      <td>98028</td>\n",
              "      <td>47.7379</td>\n",
              "      <td>-122.233</td>\n",
              "      <td>2720</td>\n",
              "      <td>8062</td>\n",
              "    </tr>\n",
              "    <tr>\n",
              "      <th>3</th>\n",
              "      <td>2487200875</td>\n",
              "      <td>20141209T000000</td>\n",
              "      <td>604000</td>\n",
              "      <td>4</td>\n",
              "      <td>3.00</td>\n",
              "      <td>1960</td>\n",
              "      <td>5000</td>\n",
              "      <td>1.0</td>\n",
              "      <td>0</td>\n",
              "      <td>0</td>\n",
              "      <td>...</td>\n",
              "      <td>7</td>\n",
              "      <td>1050</td>\n",
              "      <td>910</td>\n",
              "      <td>1965</td>\n",
              "      <td>0</td>\n",
              "      <td>98136</td>\n",
              "      <td>47.5208</td>\n",
              "      <td>-122.393</td>\n",
              "      <td>1360</td>\n",
              "      <td>5000</td>\n",
              "    </tr>\n",
              "    <tr>\n",
              "      <th>4</th>\n",
              "      <td>1954400510</td>\n",
              "      <td>20150218T000000</td>\n",
              "      <td>510000</td>\n",
              "      <td>3</td>\n",
              "      <td>2.00</td>\n",
              "      <td>1680</td>\n",
              "      <td>8080</td>\n",
              "      <td>1.0</td>\n",
              "      <td>0</td>\n",
              "      <td>0</td>\n",
              "      <td>...</td>\n",
              "      <td>8</td>\n",
              "      <td>1680</td>\n",
              "      <td>0</td>\n",
              "      <td>1987</td>\n",
              "      <td>0</td>\n",
              "      <td>98074</td>\n",
              "      <td>47.6168</td>\n",
              "      <td>-122.045</td>\n",
              "      <td>1800</td>\n",
              "      <td>7503</td>\n",
              "    </tr>\n",
              "  </tbody>\n",
              "</table>\n",
              "<p>5 rows × 21 columns</p>\n",
              "</div>\n",
              "      <button class=\"colab-df-convert\" onclick=\"convertToInteractive('df-8ea20214-8bf1-456c-866b-6a0875344e5b')\"\n",
              "              title=\"Convert this dataframe to an interactive table.\"\n",
              "              style=\"display:none;\">\n",
              "        \n",
              "  <svg xmlns=\"http://www.w3.org/2000/svg\" height=\"24px\"viewBox=\"0 0 24 24\"\n",
              "       width=\"24px\">\n",
              "    <path d=\"M0 0h24v24H0V0z\" fill=\"none\"/>\n",
              "    <path d=\"M18.56 5.44l.94 2.06.94-2.06 2.06-.94-2.06-.94-.94-2.06-.94 2.06-2.06.94zm-11 1L8.5 8.5l.94-2.06 2.06-.94-2.06-.94L8.5 2.5l-.94 2.06-2.06.94zm10 10l.94 2.06.94-2.06 2.06-.94-2.06-.94-.94-2.06-.94 2.06-2.06.94z\"/><path d=\"M17.41 7.96l-1.37-1.37c-.4-.4-.92-.59-1.43-.59-.52 0-1.04.2-1.43.59L10.3 9.45l-7.72 7.72c-.78.78-.78 2.05 0 2.83L4 21.41c.39.39.9.59 1.41.59.51 0 1.02-.2 1.41-.59l7.78-7.78 2.81-2.81c.8-.78.8-2.07 0-2.86zM5.41 20L4 18.59l7.72-7.72 1.47 1.35L5.41 20z\"/>\n",
              "  </svg>\n",
              "      </button>\n",
              "      \n",
              "  <style>\n",
              "    .colab-df-container {\n",
              "      display:flex;\n",
              "      flex-wrap:wrap;\n",
              "      gap: 12px;\n",
              "    }\n",
              "\n",
              "    .colab-df-convert {\n",
              "      background-color: #E8F0FE;\n",
              "      border: none;\n",
              "      border-radius: 50%;\n",
              "      cursor: pointer;\n",
              "      display: none;\n",
              "      fill: #1967D2;\n",
              "      height: 32px;\n",
              "      padding: 0 0 0 0;\n",
              "      width: 32px;\n",
              "    }\n",
              "\n",
              "    .colab-df-convert:hover {\n",
              "      background-color: #E2EBFA;\n",
              "      box-shadow: 0px 1px 2px rgba(60, 64, 67, 0.3), 0px 1px 3px 1px rgba(60, 64, 67, 0.15);\n",
              "      fill: #174EA6;\n",
              "    }\n",
              "\n",
              "    [theme=dark] .colab-df-convert {\n",
              "      background-color: #3B4455;\n",
              "      fill: #D2E3FC;\n",
              "    }\n",
              "\n",
              "    [theme=dark] .colab-df-convert:hover {\n",
              "      background-color: #434B5C;\n",
              "      box-shadow: 0px 1px 3px 1px rgba(0, 0, 0, 0.15);\n",
              "      filter: drop-shadow(0px 1px 2px rgba(0, 0, 0, 0.3));\n",
              "      fill: #FFFFFF;\n",
              "    }\n",
              "  </style>\n",
              "\n",
              "      <script>\n",
              "        const buttonEl =\n",
              "          document.querySelector('#df-8ea20214-8bf1-456c-866b-6a0875344e5b button.colab-df-convert');\n",
              "        buttonEl.style.display =\n",
              "          google.colab.kernel.accessAllowed ? 'block' : 'none';\n",
              "\n",
              "        async function convertToInteractive(key) {\n",
              "          const element = document.querySelector('#df-8ea20214-8bf1-456c-866b-6a0875344e5b');\n",
              "          const dataTable =\n",
              "            await google.colab.kernel.invokeFunction('convertToInteractive',\n",
              "                                                     [key], {});\n",
              "          if (!dataTable) return;\n",
              "\n",
              "          const docLinkHtml = 'Like what you see? Visit the ' +\n",
              "            '<a target=\"_blank\" href=https://colab.research.google.com/notebooks/data_table.ipynb>data table notebook</a>'\n",
              "            + ' to learn more about interactive tables.';\n",
              "          element.innerHTML = '';\n",
              "          dataTable['output_type'] = 'display_data';\n",
              "          await google.colab.output.renderOutput(dataTable, element);\n",
              "          const docLink = document.createElement('div');\n",
              "          docLink.innerHTML = docLinkHtml;\n",
              "          element.appendChild(docLink);\n",
              "        }\n",
              "      </script>\n",
              "    </div>\n",
              "  </div>\n",
              "  "
            ]
          },
          "metadata": {},
          "execution_count": 4
        }
      ]
    },
    {
      "cell_type": "code",
      "source": [
        "# colums များအား ကြည့်ခြင်း\n",
        "df.columns"
      ],
      "metadata": {
        "colab": {
          "base_uri": "https://localhost:8080/"
        },
        "id": "sVoHDkOtzspI",
        "outputId": "4e30c721-07c1-4eec-b4ff-681003f8759b"
      },
      "execution_count": 5,
      "outputs": [
        {
          "output_type": "execute_result",
          "data": {
            "text/plain": [
              "Index(['id', 'date', 'price', 'bedrooms', 'bathrooms', 'sqft_living',\n",
              "       'sqft_lot', 'floors', 'waterfront', 'view', 'condition', 'grade',\n",
              "       'sqft_above', 'sqft_basement', 'yr_built', 'yr_renovated', 'zipcode',\n",
              "       'lat', 'long', 'sqft_living15', 'sqft_lot15'],\n",
              "      dtype='object')"
            ]
          },
          "metadata": {},
          "execution_count": 5
        }
      ]
    },
    {
      "cell_type": "code",
      "source": [
        "# data types များနဲ့ null ဖြစ်/မဖြစ်အားကြည့်ခြင်း\n",
        "df.info()"
      ],
      "metadata": {
        "colab": {
          "base_uri": "https://localhost:8080/"
        },
        "id": "UfMHqbFE0pvT",
        "outputId": "53208b87-501d-4388-82b0-ffe542e0e94e"
      },
      "execution_count": 6,
      "outputs": [
        {
          "output_type": "stream",
          "name": "stdout",
          "text": [
            "<class 'pandas.core.frame.DataFrame'>\n",
            "RangeIndex: 21613 entries, 0 to 21612\n",
            "Data columns (total 21 columns):\n",
            " #   Column         Non-Null Count  Dtype  \n",
            "---  ------         --------------  -----  \n",
            " 0   id             21613 non-null  int64  \n",
            " 1   date           21613 non-null  object \n",
            " 2   price          21613 non-null  int64  \n",
            " 3   bedrooms       21613 non-null  int64  \n",
            " 4   bathrooms      21613 non-null  float64\n",
            " 5   sqft_living    21613 non-null  int64  \n",
            " 6   sqft_lot       21613 non-null  int64  \n",
            " 7   floors         21613 non-null  float64\n",
            " 8   waterfront     21613 non-null  int64  \n",
            " 9   view           21613 non-null  int64  \n",
            " 10  condition      21613 non-null  int64  \n",
            " 11  grade          21613 non-null  int64  \n",
            " 12  sqft_above     21613 non-null  int64  \n",
            " 13  sqft_basement  21613 non-null  int64  \n",
            " 14  yr_built       21613 non-null  int64  \n",
            " 15  yr_renovated   21613 non-null  int64  \n",
            " 16  zipcode        21613 non-null  int64  \n",
            " 17  lat            21613 non-null  float64\n",
            " 18  long           21613 non-null  float64\n",
            " 19  sqft_living15  21613 non-null  int64  \n",
            " 20  sqft_lot15     21613 non-null  int64  \n",
            "dtypes: float64(4), int64(16), object(1)\n",
            "memory usage: 3.5+ MB\n"
          ]
        }
      ]
    },
    {
      "cell_type": "code",
      "source": [
        "# summary statistics အားကြည့်ခြင်း\n",
        "df.describe()"
      ],
      "metadata": {
        "colab": {
          "base_uri": "https://localhost:8080/",
          "height": 364
        },
        "id": "8QNOxKUB1eIP",
        "outputId": "992089dc-e4ff-4ee8-b834-40375412ad0a"
      },
      "execution_count": 7,
      "outputs": [
        {
          "output_type": "execute_result",
          "data": {
            "text/plain": [
              "                 id         price      bedrooms     bathrooms   sqft_living  \\\n",
              "count  2.161300e+04  2.161300e+04  21613.000000  21613.000000  21613.000000   \n",
              "mean   4.580302e+09  5.400881e+05      3.370842      2.114757   2079.899736   \n",
              "std    2.876566e+09  3.671272e+05      0.930062      0.770163    918.440897   \n",
              "min    1.000102e+06  7.500000e+04      0.000000      0.000000    290.000000   \n",
              "25%    2.123049e+09  3.219500e+05      3.000000      1.750000   1427.000000   \n",
              "50%    3.904930e+09  4.500000e+05      3.000000      2.250000   1910.000000   \n",
              "75%    7.308900e+09  6.450000e+05      4.000000      2.500000   2550.000000   \n",
              "max    9.900000e+09  7.700000e+06     33.000000      8.000000  13540.000000   \n",
              "\n",
              "           sqft_lot        floors    waterfront          view     condition  \\\n",
              "count  2.161300e+04  21613.000000  21613.000000  21613.000000  21613.000000   \n",
              "mean   1.510697e+04      1.494309      0.007542      0.234303      3.409430   \n",
              "std    4.142051e+04      0.539989      0.086517      0.766318      0.650743   \n",
              "min    5.200000e+02      1.000000      0.000000      0.000000      1.000000   \n",
              "25%    5.040000e+03      1.000000      0.000000      0.000000      3.000000   \n",
              "50%    7.618000e+03      1.500000      0.000000      0.000000      3.000000   \n",
              "75%    1.068800e+04      2.000000      0.000000      0.000000      4.000000   \n",
              "max    1.651359e+06      3.500000      1.000000      4.000000      5.000000   \n",
              "\n",
              "              grade    sqft_above  sqft_basement      yr_built  yr_renovated  \\\n",
              "count  21613.000000  21613.000000   21613.000000  21613.000000  21613.000000   \n",
              "mean       7.656873   1788.390691     291.509045   1971.005136     84.402258   \n",
              "std        1.175459    828.090978     442.575043     29.373411    401.679240   \n",
              "min        1.000000    290.000000       0.000000   1900.000000      0.000000   \n",
              "25%        7.000000   1190.000000       0.000000   1951.000000      0.000000   \n",
              "50%        7.000000   1560.000000       0.000000   1975.000000      0.000000   \n",
              "75%        8.000000   2210.000000     560.000000   1997.000000      0.000000   \n",
              "max       13.000000   9410.000000    4820.000000   2015.000000   2015.000000   \n",
              "\n",
              "            zipcode           lat          long  sqft_living15     sqft_lot15  \n",
              "count  21613.000000  21613.000000  21613.000000   21613.000000   21613.000000  \n",
              "mean   98077.939805     47.560053   -122.213896    1986.552492   12768.455652  \n",
              "std       53.505026      0.138564      0.140828     685.391304   27304.179631  \n",
              "min    98001.000000     47.155900   -122.519000     399.000000     651.000000  \n",
              "25%    98033.000000     47.471000   -122.328000    1490.000000    5100.000000  \n",
              "50%    98065.000000     47.571800   -122.230000    1840.000000    7620.000000  \n",
              "75%    98118.000000     47.678000   -122.125000    2360.000000   10083.000000  \n",
              "max    98199.000000     47.777600   -121.315000    6210.000000  871200.000000  "
            ],
            "text/html": [
              "\n",
              "  <div id=\"df-9b3ff80c-07c5-4d89-820f-7ee819afc447\">\n",
              "    <div class=\"colab-df-container\">\n",
              "      <div>\n",
              "<style scoped>\n",
              "    .dataframe tbody tr th:only-of-type {\n",
              "        vertical-align: middle;\n",
              "    }\n",
              "\n",
              "    .dataframe tbody tr th {\n",
              "        vertical-align: top;\n",
              "    }\n",
              "\n",
              "    .dataframe thead th {\n",
              "        text-align: right;\n",
              "    }\n",
              "</style>\n",
              "<table border=\"1\" class=\"dataframe\">\n",
              "  <thead>\n",
              "    <tr style=\"text-align: right;\">\n",
              "      <th></th>\n",
              "      <th>id</th>\n",
              "      <th>price</th>\n",
              "      <th>bedrooms</th>\n",
              "      <th>bathrooms</th>\n",
              "      <th>sqft_living</th>\n",
              "      <th>sqft_lot</th>\n",
              "      <th>floors</th>\n",
              "      <th>waterfront</th>\n",
              "      <th>view</th>\n",
              "      <th>condition</th>\n",
              "      <th>grade</th>\n",
              "      <th>sqft_above</th>\n",
              "      <th>sqft_basement</th>\n",
              "      <th>yr_built</th>\n",
              "      <th>yr_renovated</th>\n",
              "      <th>zipcode</th>\n",
              "      <th>lat</th>\n",
              "      <th>long</th>\n",
              "      <th>sqft_living15</th>\n",
              "      <th>sqft_lot15</th>\n",
              "    </tr>\n",
              "  </thead>\n",
              "  <tbody>\n",
              "    <tr>\n",
              "      <th>count</th>\n",
              "      <td>2.161300e+04</td>\n",
              "      <td>2.161300e+04</td>\n",
              "      <td>21613.000000</td>\n",
              "      <td>21613.000000</td>\n",
              "      <td>21613.000000</td>\n",
              "      <td>2.161300e+04</td>\n",
              "      <td>21613.000000</td>\n",
              "      <td>21613.000000</td>\n",
              "      <td>21613.000000</td>\n",
              "      <td>21613.000000</td>\n",
              "      <td>21613.000000</td>\n",
              "      <td>21613.000000</td>\n",
              "      <td>21613.000000</td>\n",
              "      <td>21613.000000</td>\n",
              "      <td>21613.000000</td>\n",
              "      <td>21613.000000</td>\n",
              "      <td>21613.000000</td>\n",
              "      <td>21613.000000</td>\n",
              "      <td>21613.000000</td>\n",
              "      <td>21613.000000</td>\n",
              "    </tr>\n",
              "    <tr>\n",
              "      <th>mean</th>\n",
              "      <td>4.580302e+09</td>\n",
              "      <td>5.400881e+05</td>\n",
              "      <td>3.370842</td>\n",
              "      <td>2.114757</td>\n",
              "      <td>2079.899736</td>\n",
              "      <td>1.510697e+04</td>\n",
              "      <td>1.494309</td>\n",
              "      <td>0.007542</td>\n",
              "      <td>0.234303</td>\n",
              "      <td>3.409430</td>\n",
              "      <td>7.656873</td>\n",
              "      <td>1788.390691</td>\n",
              "      <td>291.509045</td>\n",
              "      <td>1971.005136</td>\n",
              "      <td>84.402258</td>\n",
              "      <td>98077.939805</td>\n",
              "      <td>47.560053</td>\n",
              "      <td>-122.213896</td>\n",
              "      <td>1986.552492</td>\n",
              "      <td>12768.455652</td>\n",
              "    </tr>\n",
              "    <tr>\n",
              "      <th>std</th>\n",
              "      <td>2.876566e+09</td>\n",
              "      <td>3.671272e+05</td>\n",
              "      <td>0.930062</td>\n",
              "      <td>0.770163</td>\n",
              "      <td>918.440897</td>\n",
              "      <td>4.142051e+04</td>\n",
              "      <td>0.539989</td>\n",
              "      <td>0.086517</td>\n",
              "      <td>0.766318</td>\n",
              "      <td>0.650743</td>\n",
              "      <td>1.175459</td>\n",
              "      <td>828.090978</td>\n",
              "      <td>442.575043</td>\n",
              "      <td>29.373411</td>\n",
              "      <td>401.679240</td>\n",
              "      <td>53.505026</td>\n",
              "      <td>0.138564</td>\n",
              "      <td>0.140828</td>\n",
              "      <td>685.391304</td>\n",
              "      <td>27304.179631</td>\n",
              "    </tr>\n",
              "    <tr>\n",
              "      <th>min</th>\n",
              "      <td>1.000102e+06</td>\n",
              "      <td>7.500000e+04</td>\n",
              "      <td>0.000000</td>\n",
              "      <td>0.000000</td>\n",
              "      <td>290.000000</td>\n",
              "      <td>5.200000e+02</td>\n",
              "      <td>1.000000</td>\n",
              "      <td>0.000000</td>\n",
              "      <td>0.000000</td>\n",
              "      <td>1.000000</td>\n",
              "      <td>1.000000</td>\n",
              "      <td>290.000000</td>\n",
              "      <td>0.000000</td>\n",
              "      <td>1900.000000</td>\n",
              "      <td>0.000000</td>\n",
              "      <td>98001.000000</td>\n",
              "      <td>47.155900</td>\n",
              "      <td>-122.519000</td>\n",
              "      <td>399.000000</td>\n",
              "      <td>651.000000</td>\n",
              "    </tr>\n",
              "    <tr>\n",
              "      <th>25%</th>\n",
              "      <td>2.123049e+09</td>\n",
              "      <td>3.219500e+05</td>\n",
              "      <td>3.000000</td>\n",
              "      <td>1.750000</td>\n",
              "      <td>1427.000000</td>\n",
              "      <td>5.040000e+03</td>\n",
              "      <td>1.000000</td>\n",
              "      <td>0.000000</td>\n",
              "      <td>0.000000</td>\n",
              "      <td>3.000000</td>\n",
              "      <td>7.000000</td>\n",
              "      <td>1190.000000</td>\n",
              "      <td>0.000000</td>\n",
              "      <td>1951.000000</td>\n",
              "      <td>0.000000</td>\n",
              "      <td>98033.000000</td>\n",
              "      <td>47.471000</td>\n",
              "      <td>-122.328000</td>\n",
              "      <td>1490.000000</td>\n",
              "      <td>5100.000000</td>\n",
              "    </tr>\n",
              "    <tr>\n",
              "      <th>50%</th>\n",
              "      <td>3.904930e+09</td>\n",
              "      <td>4.500000e+05</td>\n",
              "      <td>3.000000</td>\n",
              "      <td>2.250000</td>\n",
              "      <td>1910.000000</td>\n",
              "      <td>7.618000e+03</td>\n",
              "      <td>1.500000</td>\n",
              "      <td>0.000000</td>\n",
              "      <td>0.000000</td>\n",
              "      <td>3.000000</td>\n",
              "      <td>7.000000</td>\n",
              "      <td>1560.000000</td>\n",
              "      <td>0.000000</td>\n",
              "      <td>1975.000000</td>\n",
              "      <td>0.000000</td>\n",
              "      <td>98065.000000</td>\n",
              "      <td>47.571800</td>\n",
              "      <td>-122.230000</td>\n",
              "      <td>1840.000000</td>\n",
              "      <td>7620.000000</td>\n",
              "    </tr>\n",
              "    <tr>\n",
              "      <th>75%</th>\n",
              "      <td>7.308900e+09</td>\n",
              "      <td>6.450000e+05</td>\n",
              "      <td>4.000000</td>\n",
              "      <td>2.500000</td>\n",
              "      <td>2550.000000</td>\n",
              "      <td>1.068800e+04</td>\n",
              "      <td>2.000000</td>\n",
              "      <td>0.000000</td>\n",
              "      <td>0.000000</td>\n",
              "      <td>4.000000</td>\n",
              "      <td>8.000000</td>\n",
              "      <td>2210.000000</td>\n",
              "      <td>560.000000</td>\n",
              "      <td>1997.000000</td>\n",
              "      <td>0.000000</td>\n",
              "      <td>98118.000000</td>\n",
              "      <td>47.678000</td>\n",
              "      <td>-122.125000</td>\n",
              "      <td>2360.000000</td>\n",
              "      <td>10083.000000</td>\n",
              "    </tr>\n",
              "    <tr>\n",
              "      <th>max</th>\n",
              "      <td>9.900000e+09</td>\n",
              "      <td>7.700000e+06</td>\n",
              "      <td>33.000000</td>\n",
              "      <td>8.000000</td>\n",
              "      <td>13540.000000</td>\n",
              "      <td>1.651359e+06</td>\n",
              "      <td>3.500000</td>\n",
              "      <td>1.000000</td>\n",
              "      <td>4.000000</td>\n",
              "      <td>5.000000</td>\n",
              "      <td>13.000000</td>\n",
              "      <td>9410.000000</td>\n",
              "      <td>4820.000000</td>\n",
              "      <td>2015.000000</td>\n",
              "      <td>2015.000000</td>\n",
              "      <td>98199.000000</td>\n",
              "      <td>47.777600</td>\n",
              "      <td>-121.315000</td>\n",
              "      <td>6210.000000</td>\n",
              "      <td>871200.000000</td>\n",
              "    </tr>\n",
              "  </tbody>\n",
              "</table>\n",
              "</div>\n",
              "      <button class=\"colab-df-convert\" onclick=\"convertToInteractive('df-9b3ff80c-07c5-4d89-820f-7ee819afc447')\"\n",
              "              title=\"Convert this dataframe to an interactive table.\"\n",
              "              style=\"display:none;\">\n",
              "        \n",
              "  <svg xmlns=\"http://www.w3.org/2000/svg\" height=\"24px\"viewBox=\"0 0 24 24\"\n",
              "       width=\"24px\">\n",
              "    <path d=\"M0 0h24v24H0V0z\" fill=\"none\"/>\n",
              "    <path d=\"M18.56 5.44l.94 2.06.94-2.06 2.06-.94-2.06-.94-.94-2.06-.94 2.06-2.06.94zm-11 1L8.5 8.5l.94-2.06 2.06-.94-2.06-.94L8.5 2.5l-.94 2.06-2.06.94zm10 10l.94 2.06.94-2.06 2.06-.94-2.06-.94-.94-2.06-.94 2.06-2.06.94z\"/><path d=\"M17.41 7.96l-1.37-1.37c-.4-.4-.92-.59-1.43-.59-.52 0-1.04.2-1.43.59L10.3 9.45l-7.72 7.72c-.78.78-.78 2.05 0 2.83L4 21.41c.39.39.9.59 1.41.59.51 0 1.02-.2 1.41-.59l7.78-7.78 2.81-2.81c.8-.78.8-2.07 0-2.86zM5.41 20L4 18.59l7.72-7.72 1.47 1.35L5.41 20z\"/>\n",
              "  </svg>\n",
              "      </button>\n",
              "      \n",
              "  <style>\n",
              "    .colab-df-container {\n",
              "      display:flex;\n",
              "      flex-wrap:wrap;\n",
              "      gap: 12px;\n",
              "    }\n",
              "\n",
              "    .colab-df-convert {\n",
              "      background-color: #E8F0FE;\n",
              "      border: none;\n",
              "      border-radius: 50%;\n",
              "      cursor: pointer;\n",
              "      display: none;\n",
              "      fill: #1967D2;\n",
              "      height: 32px;\n",
              "      padding: 0 0 0 0;\n",
              "      width: 32px;\n",
              "    }\n",
              "\n",
              "    .colab-df-convert:hover {\n",
              "      background-color: #E2EBFA;\n",
              "      box-shadow: 0px 1px 2px rgba(60, 64, 67, 0.3), 0px 1px 3px 1px rgba(60, 64, 67, 0.15);\n",
              "      fill: #174EA6;\n",
              "    }\n",
              "\n",
              "    [theme=dark] .colab-df-convert {\n",
              "      background-color: #3B4455;\n",
              "      fill: #D2E3FC;\n",
              "    }\n",
              "\n",
              "    [theme=dark] .colab-df-convert:hover {\n",
              "      background-color: #434B5C;\n",
              "      box-shadow: 0px 1px 3px 1px rgba(0, 0, 0, 0.15);\n",
              "      filter: drop-shadow(0px 1px 2px rgba(0, 0, 0, 0.3));\n",
              "      fill: #FFFFFF;\n",
              "    }\n",
              "  </style>\n",
              "\n",
              "      <script>\n",
              "        const buttonEl =\n",
              "          document.querySelector('#df-9b3ff80c-07c5-4d89-820f-7ee819afc447 button.colab-df-convert');\n",
              "        buttonEl.style.display =\n",
              "          google.colab.kernel.accessAllowed ? 'block' : 'none';\n",
              "\n",
              "        async function convertToInteractive(key) {\n",
              "          const element = document.querySelector('#df-9b3ff80c-07c5-4d89-820f-7ee819afc447');\n",
              "          const dataTable =\n",
              "            await google.colab.kernel.invokeFunction('convertToInteractive',\n",
              "                                                     [key], {});\n",
              "          if (!dataTable) return;\n",
              "\n",
              "          const docLinkHtml = 'Like what you see? Visit the ' +\n",
              "            '<a target=\"_blank\" href=https://colab.research.google.com/notebooks/data_table.ipynb>data table notebook</a>'\n",
              "            + ' to learn more about interactive tables.';\n",
              "          element.innerHTML = '';\n",
              "          dataTable['output_type'] = 'display_data';\n",
              "          await google.colab.output.renderOutput(dataTable, element);\n",
              "          const docLink = document.createElement('div');\n",
              "          docLink.innerHTML = docLinkHtml;\n",
              "          element.appendChild(docLink);\n",
              "        }\n",
              "      </script>\n",
              "    </div>\n",
              "  </div>\n",
              "  "
            ]
          },
          "metadata": {},
          "execution_count": 7
        }
      ]
    },
    {
      "cell_type": "code",
      "source": [
        "# sqft_living နဲ့ price ကြားဆက်နွယ်ချက်အား plot ပြုလုပ်ခြင်း\n",
        "plt.figure(figsize=(10,6))\n",
        "sns.scatterplot(df.sqft_living,df.price)\n",
        "plt.xlabel('sqft of house')\n",
        "plt.ylabel('price of house')"
      ],
      "metadata": {
        "colab": {
          "base_uri": "https://localhost:8080/",
          "height": 418
        },
        "id": "fx8tTkfX1jzt",
        "outputId": "2efa6d0a-c503-472e-e8da-48b7b0707db4"
      },
      "execution_count": 8,
      "outputs": [
        {
          "output_type": "execute_result",
          "data": {
            "text/plain": [
              "Text(0, 0.5, 'price of house')"
            ]
          },
          "metadata": {},
          "execution_count": 8
        },
        {
          "output_type": "display_data",
          "data": {
            "text/plain": [
              "<Figure size 720x432 with 1 Axes>"
            ],
            "image/png": "[encoded data removed]"
          },
          "metadata": {
            "needs_background": "light"
          }
        }
      ]
    },
    {
      "cell_type": "code",
      "source": [
        "# regression plot ပြုလုပ်ခြင်း\n",
        "plt.figure(figsize=(10,6))\n",
        "sns.lmplot('sqft_living','price',data=df)"
      ],
      "metadata": {
        "colab": {
          "base_uri": "https://localhost:8080/",
          "height": 406
        },
        "id": "bUqnLlCJ11Dk",
        "outputId": "075e8b7e-dea3-4732-8d7f-4de91f39ca85"
      },
      "execution_count": 9,
      "outputs": [
        {
          "output_type": "execute_result",
          "data": {
            "text/plain": [
              "<seaborn.axisgrid.FacetGrid at 0x7fcb1120c410>"
            ]
          },
          "metadata": {},
          "execution_count": 9
        },
        {
          "output_type": "display_data",
          "data": {
            "text/plain": [
              "<Figure size 720x432 with 0 Axes>"
            ]
          },
          "metadata": {}
        },
        {
          "output_type": "display_data",
          "data": {
            "text/plain": [
              "<Figure size 360x360 with 1 Axes>"
            ],
            "image/png": "[encoded data removed]"
          },
          "metadata": {
            "needs_background": "light"
          }
        }
      ]
    },
    {
      "cell_type": "code",
      "source": [
        "# heat map ပြုလုပ်ခြင်း\n",
        "sns.heatmap(df.corr())"
      ],
      "metadata": {
        "colab": {
          "base_uri": "https://localhost:8080/",
          "height": 352
        },
        "id": "bdVabJwl3Y38",
        "outputId": "63d2482a-560f-411a-ee94-370cc2d7c29a"
      },
      "execution_count": 10,
      "outputs": [
        {
          "output_type": "execute_result",
          "data": {
            "text/plain": [
              "<matplotlib.axes._subplots.AxesSubplot at 0x7fcb0e50d810>"
            ]
          },
          "metadata": {},
          "execution_count": 10
        },
        {
          "output_type": "display_data",
          "data": {
            "text/plain": [
              "<Figure size 432x288 with 2 Axes>"
            ],
            "image/png": "[encoded data removed]"
          },
          "metadata": {
            "needs_background": "light"
          }
        }
      ]
    },
    {
      "cell_type": "code",
      "source": [
        "sns.displot(df['price'],color='red')"
      ],
      "metadata": {
        "colab": {
          "base_uri": "https://localhost:8080/",
          "height": 388
        },
        "id": "oxI99dBx30_-",
        "outputId": "317993a7-af46-4bf5-dada-c66b626da9e2"
      },
      "execution_count": 11,
      "outputs": [
        {
          "output_type": "execute_result",
          "data": {
            "text/plain": [
              "<seaborn.axisgrid.FacetGrid at 0x7fcb0e396910>"
            ]
          },
          "metadata": {},
          "execution_count": 11
        },
        {
          "output_type": "display_data",
          "data": {
            "text/plain": [
              "<Figure size 360x360 with 1 Axes>"
            ],
            "image/png": "[encoded data removed]"
          },
          "metadata": {
            "needs_background": "light"
          }
        }
      ]
    },
    {
      "cell_type": "code",
      "source": [
        "# linear regression ကို scikit-learn သုံးပြီးတွက်ပါမယ်။\n",
        "# အပေါ်ကအဆင့်တွေက ကိုယ့်ရဲ့ data ကြားက အချင်းချင်း ဆက်နွယ်ချက်တွေ\n",
        "# ကို ကြည့်ပြီး လိုအပ်တာတွေကို ပြင်ဆင်တဲ့အဆင့်ဖြစ်ပါတယ်။"
      ],
      "metadata": {
        "id": "I9NBfQaI37ht"
      },
      "execution_count": 12,
      "outputs": []
    },
    {
      "cell_type": "code",
      "source": [
        "df.columns"
      ],
      "metadata": {
        "colab": {
          "base_uri": "https://localhost:8080/"
        },
        "id": "E4joxvIdYVN2",
        "outputId": "06763c8c-5287-4a98-a00f-2af4905bc9f2"
      },
      "execution_count": 13,
      "outputs": [
        {
          "output_type": "execute_result",
          "data": {
            "text/plain": [
              "Index(['id', 'date', 'price', 'bedrooms', 'bathrooms', 'sqft_living',\n",
              "       'sqft_lot', 'floors', 'waterfront', 'view', 'condition', 'grade',\n",
              "       'sqft_above', 'sqft_basement', 'yr_built', 'yr_renovated', 'zipcode',\n",
              "       'lat', 'long', 'sqft_living15', 'sqft_lot15'],\n",
              "      dtype='object')"
            ]
          },
          "metadata": {},
          "execution_count": 13
        }
      ]
    },
    {
      "cell_type": "code",
      "source": [
        "# ဒီကောင်ကိုတွက်မယ်ဆိုရင် features နဲ့ target တွေကို အရင်သတ်မှတ်ပေးရပါမယ်။\n",
        "# သတ်မှတ်ရာမှာ features columns တွေကို 2D array နဲ့ရေးပြီး target column ကိုတော့ 1D array နဲ့ရေးပါတယ်။\n",
        "# features columns ကို X လို့သတ်မှတ်ပြီး target column ကို Y လို့သတ်မှတ်ပါတယ်။\n",
        "# feature column က (၁)ခုကနေ အများထိသတ်မှတ်ပေးလို့ရပြီး target ကတော့ (၁)ခုပဲထားလို့ရပါတယ်။\n",
        "# ကျနော်တို့တွက်မှာက အိပ်ခန်းတွေ၊ ရေချိုးခန်းတွေအဲ့လို columns တွေနဲ့ price နဲ့ဆက်နွယ်ချက်ကို အခြေခံပြီးတွက်ထုတ်မှာဖြစ်တယ်။"
      ],
      "metadata": {
        "id": "VUUmB_iUYW6m"
      },
      "execution_count": 14,
      "outputs": []
    },
    {
      "cell_type": "code",
      "source": [
        "X=df[['bedrooms', 'bathrooms', 'sqft_living',\n",
        "       'sqft_lot', 'floors', 'waterfront', 'view', 'condition', 'grade',\n",
        "       'sqft_above', 'sqft_basement', 'yr_built', 'yr_renovated', 'zipcode']]\n",
        "y=df.price #df['price'] လို့လဲရေးလို့ရပါတယ်။\n",
        "# 2D array ရေးမယ်ဆိုရင် [[]] ကြားထဲထည့်ပြီးရေးတာဖြစ်ပါတယ်။\n",
        "# 2D array က table နဲ့ဆင်ပါတယ်။ 1D ကျတော့ column လို့သဘောထားလို့ရပါတယ်။\n",
        "# ဒီမှာသုံးမယ့် သဘောတရားက matrics မှာသုံးတာနဲ့တူပါတယ်။"
      ],
      "metadata": {
        "id": "xHnn_8V3ZaCE"
      },
      "execution_count": 15,
      "outputs": []
    },
    {
      "cell_type": "code",
      "source": [
        "print(X.shape,y.shape) #X နဲ့ y တို့၏ dimension ကြည့်ချင်း\n",
        "# (x,y) x,y တန်ဖိုး ၂ ခုပါတာက 2D array ဖြစ်ပါတယ်။ x က row, y က column ဖြစ်ပါတယ်။"
      ],
      "metadata": {
        "colab": {
          "base_uri": "https://localhost:8080/"
        },
        "id": "GTua-6tRZkox",
        "outputId": "5bdc96ef-44a0-47f7-e98d-231fa0852982"
      },
      "execution_count": 16,
      "outputs": [
        {
          "output_type": "stream",
          "name": "stdout",
          "text": [
            "(21613, 14) (21613,)\n"
          ]
        }
      ]
    },
    {
      "cell_type": "markdown",
      "source": [
        "### Train Test Split"
      ],
      "metadata": {
        "id": "Oz0ylJs3a5Nn"
      }
    },
    {
      "cell_type": "code",
      "source": [
        "# machine learning ကို သုံးတော့မယ်ဆိုရင် ကျနော်တို့ရဲ့ dataset ကို train နဲ့ test ဆိုပြီး ၂ စုခွဲပါတယ်။\n",
        "# train လုပ်မယ့် result ရတာနဲ့ test နဲ့ပြန်တိုက်ဆိုင် စစ်ဆေးပြီး ကိုယ်လုပ်ထားတာ ဘယ်လောက်တိကျမှုရှိလဲဆိုတာကို\n",
        "# ကြည့်မှာကြောင့်မို့ လုပ်တာဖြစ်ပါတယ်။"
      ],
      "metadata": {
        "id": "bykXgg07ZpLX"
      },
      "execution_count": 17,
      "outputs": []
    },
    {
      "cell_type": "code",
      "source": [
        "from sklearn.model_selection import train_test_split"
      ],
      "metadata": {
        "id": "9FIbmwqbb6OZ"
      },
      "execution_count": 18,
      "outputs": []
    },
    {
      "cell_type": "code",
      "source": [
        "X_train, X_test, y_train, y_test = train_test_split(X, y, test_size=0.3, random_state=42)\n",
        "# test size 0.3 ဆိုတာက data set ထဲက data တွေရဲ့ 30 % ကိုဆိုလိုတာ ဖြစ်ပါတယ်။\n",
        "# random state ကတော့ random ယူပြီးသွားတဲ့ပုံစံဖြစ်ပါတယ်။ zero ကနေစလို့ positive integer တန်ဖိုးတွေကို အသုံးပြုပါတယ်။"
      ],
      "metadata": {
        "id": "Qniakm1icG_F"
      },
      "execution_count": 19,
      "outputs": []
    },
    {
      "cell_type": "code",
      "source": [
        "print(X_train.shape,y_train.shape)\n",
        "print(X_test.shape,y_test.shape)"
      ],
      "metadata": {
        "colab": {
          "base_uri": "https://localhost:8080/"
        },
        "id": "ZFZ3OxDDdgYd",
        "outputId": "f0694902-8064-4e76-aaf0-876a7b675808"
      },
      "execution_count": 20,
      "outputs": [
        {
          "output_type": "stream",
          "name": "stdout",
          "text": [
            "(15129, 14) (15129,)\n",
            "(6484, 14) (6484,)\n"
          ]
        }
      ]
    },
    {
      "cell_type": "code",
      "source": [
        "# linear model\n",
        "from sklearn.linear_model import LinearRegression"
      ],
      "metadata": {
        "id": "4bLGGqLJdoLj"
      },
      "execution_count": 21,
      "outputs": []
    },
    {
      "cell_type": "code",
      "source": [
        "# linear regression class ကို instanciate ပြုလုပ်ခြင်း\n",
        "model=LinearRegression()"
      ],
      "metadata": {
        "id": "yRyuJpItnduM"
      },
      "execution_count": 22,
      "outputs": []
    },
    {
      "cell_type": "code",
      "source": [
        "#ပထမဆုံး train data တွေကို fit လုပ်မယ်။\n",
        "model.fit(X_train,y_train)"
      ],
      "metadata": {
        "colab": {
          "base_uri": "https://localhost:8080/"
        },
        "id": "28bL3mCgnpUP",
        "outputId": "2459b4f2-1ef2-4944-ce4a-527aae13f93d"
      },
      "execution_count": 23,
      "outputs": [
        {
          "output_type": "execute_result",
          "data": {
            "text/plain": [
              "LinearRegression()"
            ]
          },
          "metadata": {},
          "execution_count": 23
        }
      ]
    },
    {
      "cell_type": "code",
      "source": [
        "# ပြီးရင် predict လုပ်မယ်။\n",
        "prediction=model.predict(X_test)\n",
        "prediction"
      ],
      "metadata": {
        "colab": {
          "base_uri": "https://localhost:8080/"
        },
        "id": "EytycYVRn34i",
        "outputId": "29646396-c249-44c4-9dc9-fb05271b410a"
      },
      "execution_count": 24,
      "outputs": [
        {
          "output_type": "execute_result",
          "data": {
            "text/plain": [
              "array([ 515450.8199654 ,  676697.3522652 , 1224740.65725206, ...,\n",
              "        290934.90132614,  857629.93376655,  489104.29215129])"
            ]
          },
          "metadata": {},
          "execution_count": 24
        }
      ]
    },
    {
      "cell_type": "code",
      "source": [
        "# X_test ကို predict လုပ်ထားတဲ့ value နဲ့ y test ကိုနှိုင်းယှဉ်မယ်။\n",
        "plt.scatter(y_test,prediction,color='r')"
      ],
      "metadata": {
        "colab": {
          "base_uri": "https://localhost:8080/",
          "height": 308
        },
        "id": "fecDlxsLoBHY",
        "outputId": "b721d4f2-e0eb-47ed-85ea-d3d8187b879b"
      },
      "execution_count": 25,
      "outputs": [
        {
          "output_type": "execute_result",
          "data": {
            "text/plain": [
              "<matplotlib.collections.PathCollection at 0x7fcb0d22fed0>"
            ]
          },
          "metadata": {},
          "execution_count": 25
        },
        {
          "output_type": "display_data",
          "data": {
            "text/plain": [
              "<Figure size 432x288 with 1 Axes>"
            ],
            "image/png": "[encoded data removed]"
          },
          "metadata": {
            "needs_background": "light"
          }
        }
      ]
    },
    {
      "cell_type": "code",
      "source": [
        "model.coef_"
      ],
      "metadata": {
        "colab": {
          "base_uri": "https://localhost:8080/"
        },
        "id": "SzcXoNJWoNu7",
        "outputId": "2affd24e-27c5-4992-ffee-407efb84c4dc"
      },
      "execution_count": 26,
      "outputs": [
        {
          "output_type": "execute_result",
          "data": {
            "text/plain": [
              "array([-3.83252249e+04,  4.42712946e+04,  1.15576535e+02, -2.74679546e-01,\n",
              "        2.50214190e+04,  5.36410502e+05,  4.61211982e+04,  1.43611609e+04,\n",
              "        1.22222290e+05,  5.60115850e+01,  5.95649505e+01, -3.55362122e+03,\n",
              "        1.17216864e+01, -3.10249018e+01])"
            ]
          },
          "metadata": {},
          "execution_count": 26
        }
      ]
    },
    {
      "cell_type": "code",
      "source": [
        "df_coef=pd.DataFrame(model.coef_,X.columns,columns=['Coefficent Value'])\n",
        "df_coef\n",
        "# coefficent ဆိုတာ 1 unit အလိုက်တန်ဘိုးဖြစ်ပတယ်၊"
      ],
      "metadata": {
        "colab": {
          "base_uri": "https://localhost:8080/",
          "height": 488
        },
        "id": "ZsBGfJYNqCcm",
        "outputId": "6d71151b-485c-4109-99f4-0dc0648c2559"
      },
      "execution_count": 27,
      "outputs": [
        {
          "output_type": "execute_result",
          "data": {
            "text/plain": [
              "               Coefficent Value\n",
              "bedrooms          -38325.224919\n",
              "bathrooms          44271.294560\n",
              "sqft_living          115.576535\n",
              "sqft_lot              -0.274680\n",
              "floors             25021.418995\n",
              "waterfront        536410.501941\n",
              "view               46121.198225\n",
              "condition          14361.160938\n",
              "grade             122222.290380\n",
              "sqft_above            56.011585\n",
              "sqft_basement         59.564950\n",
              "yr_built           -3553.621220\n",
              "yr_renovated          11.721686\n",
              "zipcode              -31.024902"
            ],
            "text/html": [
              "\n",
              "  <div id=\"df-55cee1e3-bb7f-4046-b4a1-8e261ea7fe82\">\n",
              "    <div class=\"colab-df-container\">\n",
              "      <div>\n",
              "<style scoped>\n",
              "    .dataframe tbody tr th:only-of-type {\n",
              "        vertical-align: middle;\n",
              "    }\n",
              "\n",
              "    .dataframe tbody tr th {\n",
              "        vertical-align: top;\n",
              "    }\n",
              "\n",
              "    .dataframe thead th {\n",
              "        text-align: right;\n",
              "    }\n",
              "</style>\n",
              "<table border=\"1\" class=\"dataframe\">\n",
              "  <thead>\n",
              "    <tr style=\"text-align: right;\">\n",
              "      <th></th>\n",
              "      <th>Coefficent Value</th>\n",
              "    </tr>\n",
              "  </thead>\n",
              "  <tbody>\n",
              "    <tr>\n",
              "      <th>bedrooms</th>\n",
              "      <td>-38325.224919</td>\n",
              "    </tr>\n",
              "    <tr>\n",
              "      <th>bathrooms</th>\n",
              "      <td>44271.294560</td>\n",
              "    </tr>\n",
              "    <tr>\n",
              "      <th>sqft_living</th>\n",
              "      <td>115.576535</td>\n",
              "    </tr>\n",
              "    <tr>\n",
              "      <th>sqft_lot</th>\n",
              "      <td>-0.274680</td>\n",
              "    </tr>\n",
              "    <tr>\n",
              "      <th>floors</th>\n",
              "      <td>25021.418995</td>\n",
              "    </tr>\n",
              "    <tr>\n",
              "      <th>waterfront</th>\n",
              "      <td>536410.501941</td>\n",
              "    </tr>\n",
              "    <tr>\n",
              "      <th>view</th>\n",
              "      <td>46121.198225</td>\n",
              "    </tr>\n",
              "    <tr>\n",
              "      <th>condition</th>\n",
              "      <td>14361.160938</td>\n",
              "    </tr>\n",
              "    <tr>\n",
              "      <th>grade</th>\n",
              "      <td>122222.290380</td>\n",
              "    </tr>\n",
              "    <tr>\n",
              "      <th>sqft_above</th>\n",
              "      <td>56.011585</td>\n",
              "    </tr>\n",
              "    <tr>\n",
              "      <th>sqft_basement</th>\n",
              "      <td>59.564950</td>\n",
              "    </tr>\n",
              "    <tr>\n",
              "      <th>yr_built</th>\n",
              "      <td>-3553.621220</td>\n",
              "    </tr>\n",
              "    <tr>\n",
              "      <th>yr_renovated</th>\n",
              "      <td>11.721686</td>\n",
              "    </tr>\n",
              "    <tr>\n",
              "      <th>zipcode</th>\n",
              "      <td>-31.024902</td>\n",
              "    </tr>\n",
              "  </tbody>\n",
              "</table>\n",
              "</div>\n",
              "      <button class=\"colab-df-convert\" onclick=\"convertToInteractive('df-55cee1e3-bb7f-4046-b4a1-8e261ea7fe82')\"\n",
              "              title=\"Convert this dataframe to an interactive table.\"\n",
              "              style=\"display:none;\">\n",
              "        \n",
              "  <svg xmlns=\"http://www.w3.org/2000/svg\" height=\"24px\"viewBox=\"0 0 24 24\"\n",
              "       width=\"24px\">\n",
              "    <path d=\"M0 0h24v24H0V0z\" fill=\"none\"/>\n",
              "    <path d=\"M18.56 5.44l.94 2.06.94-2.06 2.06-.94-2.06-.94-.94-2.06-.94 2.06-2.06.94zm-11 1L8.5 8.5l.94-2.06 2.06-.94-2.06-.94L8.5 2.5l-.94 2.06-2.06.94zm10 10l.94 2.06.94-2.06 2.06-.94-2.06-.94-.94-2.06-.94 2.06-2.06.94z\"/><path d=\"M17.41 7.96l-1.37-1.37c-.4-.4-.92-.59-1.43-.59-.52 0-1.04.2-1.43.59L10.3 9.45l-7.72 7.72c-.78.78-.78 2.05 0 2.83L4 21.41c.39.39.9.59 1.41.59.51 0 1.02-.2 1.41-.59l7.78-7.78 2.81-2.81c.8-.78.8-2.07 0-2.86zM5.41 20L4 18.59l7.72-7.72 1.47 1.35L5.41 20z\"/>\n",
              "  </svg>\n",
              "      </button>\n",
              "      \n",
              "  <style>\n",
              "    .colab-df-container {\n",
              "      display:flex;\n",
              "      flex-wrap:wrap;\n",
              "      gap: 12px;\n",
              "    }\n",
              "\n",
              "    .colab-df-convert {\n",
              "      background-color: #E8F0FE;\n",
              "      border: none;\n",
              "      border-radius: 50%;\n",
              "      cursor: pointer;\n",
              "      display: none;\n",
              "      fill: #1967D2;\n",
              "      height: 32px;\n",
              "      padding: 0 0 0 0;\n",
              "      width: 32px;\n",
              "    }\n",
              "\n",
              "    .colab-df-convert:hover {\n",
              "      background-color: #E2EBFA;\n",
              "      box-shadow: 0px 1px 2px rgba(60, 64, 67, 0.3), 0px 1px 3px 1px rgba(60, 64, 67, 0.15);\n",
              "      fill: #174EA6;\n",
              "    }\n",
              "\n",
              "    [theme=dark] .colab-df-convert {\n",
              "      background-color: #3B4455;\n",
              "      fill: #D2E3FC;\n",
              "    }\n",
              "\n",
              "    [theme=dark] .colab-df-convert:hover {\n",
              "      background-color: #434B5C;\n",
              "      box-shadow: 0px 1px 3px 1px rgba(0, 0, 0, 0.15);\n",
              "      filter: drop-shadow(0px 1px 2px rgba(0, 0, 0, 0.3));\n",
              "      fill: #FFFFFF;\n",
              "    }\n",
              "  </style>\n",
              "\n",
              "      <script>\n",
              "        const buttonEl =\n",
              "          document.querySelector('#df-55cee1e3-bb7f-4046-b4a1-8e261ea7fe82 button.colab-df-convert');\n",
              "        buttonEl.style.display =\n",
              "          google.colab.kernel.accessAllowed ? 'block' : 'none';\n",
              "\n",
              "        async function convertToInteractive(key) {\n",
              "          const element = document.querySelector('#df-55cee1e3-bb7f-4046-b4a1-8e261ea7fe82');\n",
              "          const dataTable =\n",
              "            await google.colab.kernel.invokeFunction('convertToInteractive',\n",
              "                                                     [key], {});\n",
              "          if (!dataTable) return;\n",
              "\n",
              "          const docLinkHtml = 'Like what you see? Visit the ' +\n",
              "            '<a target=\"_blank\" href=https://colab.research.google.com/notebooks/data_table.ipynb>data table notebook</a>'\n",
              "            + ' to learn more about interactive tables.';\n",
              "          element.innerHTML = '';\n",
              "          dataTable['output_type'] = 'display_data';\n",
              "          await google.colab.output.renderOutput(dataTable, element);\n",
              "          const docLink = document.createElement('div');\n",
              "          docLink.innerHTML = docLinkHtml;\n",
              "          element.appendChild(docLink);\n",
              "        }\n",
              "      </script>\n",
              "    </div>\n",
              "  </div>\n",
              "  "
            ]
          },
          "metadata": {},
          "execution_count": 27
        }
      ]
    },
    {
      "cell_type": "code",
      "source": [
        "model.intercept_ # ဒီကောင်က မျဉ်းဖြတ်သွားတဲ့တန်ဘိုး"
      ],
      "metadata": {
        "colab": {
          "base_uri": "https://localhost:8080/"
        },
        "id": "6V9s-CwsquTp",
        "outputId": "70737a8c-8d5a-429e-f55b-8c8a70b7c6c3"
      },
      "execution_count": 28,
      "outputs": [
        {
          "output_type": "execute_result",
          "data": {
            "text/plain": [
              "9230862.378876433"
            ]
          },
          "metadata": {},
          "execution_count": 28
        }
      ]
    },
    {
      "cell_type": "code",
      "source": [
        "# Linear Regression က ငယ်ငယ်က linear equation formula ဖြစ်တဲ့\n",
        "# y=mx+b က နေတွက်တဲ့ algorithm ဖြစ်ပြီး coefficent က m ဖြစ်ပြီး b က interception ဖြစ်တယ်။\n",
        "# x ကျတော့ ကိုယ်ရချင်တဲ့ တန်ဘိုးတွေဖြစ်တယ်။\n",
        "# ကျနော်တို့က x တန်ဘိုးပဲ သိတဲ့အတွက် x က linear equation မှာချလိုက်ရင် m နဲ့ b တန်ဘိုးရခဲ့မှာဖြစ်တယ်။\n",
        "# m နဲ့ b တန်ဘိုးရရင် ကိုယ်လိုချင်တဲ့ prediction ရပြီလို့ သတ်မှတ်လို့ရပါတယ်။"
      ],
      "metadata": {
        "id": "eTsNFQBIrEE-"
      },
      "execution_count": 29,
      "outputs": []
    },
    {
      "cell_type": "code",
      "source": [
        "# ကိုယ့်ရဲ့ model မှာ error ဘယ်လောက်ရှိလဲ သိချင်ရင် RMSE ဆိုတဲ့ (root mean square error)\n",
        "# တန်ဘိုးကိုရှာပေးရပါတယ်။"
      ],
      "metadata": {
        "id": "uFIXl3uOr-lp"
      },
      "execution_count": 30,
      "outputs": []
    },
    {
      "cell_type": "markdown",
      "source": [
        "### RMSE (root mean squared error)"
      ],
      "metadata": {
        "id": "1dni5IVwss5q"
      }
    },
    {
      "cell_type": "markdown",
      "source": [
        "RMSE ဆိုတာ  actual နဲ့ prediction ကြားက ကွာဝေးတဲ့အကွာအဝေးဖြစ်ပါတယ်။\n",
        "အဲ့တန်ဖိုးနည်းလေလေ ကိုယ်လုပ်ထားတာ တိကျလေလေလို့ပဲမှတ်လို့ရပါတယ်။"
      ],
      "metadata": {
        "id": "13Bv8PXi5J_P"
      }
    },
    {
      "cell_type": "code",
      "source": [
        "from sklearn import metrics"
      ],
      "metadata": {
        "id": "mx6YP8J8srnb"
      },
      "execution_count": 31,
      "outputs": []
    },
    {
      "cell_type": "code",
      "source": [
        "mse=metrics.mean_squared_error(y_test,prediction)"
      ],
      "metadata": {
        "id": "1mU5JH6nsyZL"
      },
      "execution_count": 32,
      "outputs": []
    },
    {
      "cell_type": "code",
      "source": [
        "RMSE=np.sqrt(mse)\n",
        "RMSE"
      ],
      "metadata": {
        "colab": {
          "base_uri": "https://localhost:8080/"
        },
        "id": "WXFOlh1bs6ug",
        "outputId": "412588ec-e5ce-4e72-b6d5-a4321318cc67"
      },
      "execution_count": 33,
      "outputs": [
        {
          "output_type": "execute_result",
          "data": {
            "text/plain": [
              "224560.199930769"
            ]
          },
          "metadata": {},
          "execution_count": 33
        }
      ]
    },
    {
      "cell_type": "code",
      "source": [
        "# နောက်ထပ် model ပြုလုပ်ပြီး ပထမနဲ့ ဒုတိယ ဘယ်ဟာ error များလဲ ရှာရအောင်\n",
        "X_train, X_test, y_train, y_test = train_test_split(X, y, test_size=0.3, random_state=7)"
      ],
      "metadata": {
        "id": "OKBmvSRAs9nm"
      },
      "execution_count": 34,
      "outputs": []
    },
    {
      "cell_type": "code",
      "source": [
        "model2=LinearRegression()"
      ],
      "metadata": {
        "id": "Ur3_92yKwOYS"
      },
      "execution_count": 35,
      "outputs": []
    },
    {
      "cell_type": "code",
      "source": [
        "model2.fit(X_train,y_train)"
      ],
      "metadata": {
        "colab": {
          "base_uri": "https://localhost:8080/"
        },
        "id": "nmg6vbRawR7f",
        "outputId": "f217824c-8079-452c-983e-cf0784c2b929"
      },
      "execution_count": 36,
      "outputs": [
        {
          "output_type": "execute_result",
          "data": {
            "text/plain": [
              "LinearRegression()"
            ]
          },
          "metadata": {},
          "execution_count": 36
        }
      ]
    },
    {
      "cell_type": "code",
      "source": [
        "prediction2=model2.predict(X_test)\n",
        "prediction2"
      ],
      "metadata": {
        "colab": {
          "base_uri": "https://localhost:8080/"
        },
        "id": "rnzA-mxvwVZX",
        "outputId": "607482c7-7019-4c39-8070-0551b74cd7f6"
      },
      "execution_count": 37,
      "outputs": [
        {
          "output_type": "execute_result",
          "data": {
            "text/plain": [
              "array([229802.21057728, 774461.83816659, 729756.14521333, ...,\n",
              "       305416.77601125, 304644.28130002, 343694.73728572])"
            ]
          },
          "metadata": {},
          "execution_count": 37
        }
      ]
    },
    {
      "cell_type": "code",
      "source": [
        "print(prediction[0])\n",
        "print(prediction2[0])"
      ],
      "metadata": {
        "colab": {
          "base_uri": "https://localhost:8080/"
        },
        "id": "jP1ol9ASwact",
        "outputId": "2fb51c81-0d72-487e-c97e-b8557f59e30d"
      },
      "execution_count": 38,
      "outputs": [
        {
          "output_type": "stream",
          "name": "stdout",
          "text": [
            "515450.8199654035\n",
            "229802.2105772756\n"
          ]
        }
      ]
    },
    {
      "cell_type": "code",
      "source": [
        "mse2=metrics.mean_squared_error(y_test,prediction2)\n",
        "RMSE2=np.sqrt(mse2)\n",
        "RMSE2\n",
        "# ရလာတဲ့ RMSE တန်ဘိုးနဲ့ အရင်ကရထားတဲ့ တန်ဖိုးနဲ့နှိုင်းယှဉ်ကြည့်လို့ရပါတယ်။"
      ],
      "metadata": {
        "colab": {
          "base_uri": "https://localhost:8080/"
        },
        "id": "C8gfsTYxwdSD",
        "outputId": "9b8a218e-cb63-4380-f417-1bdf69dd45d5"
      },
      "execution_count": 39,
      "outputs": [
        {
          "output_type": "execute_result",
          "data": {
            "text/plain": [
              "220417.68632558157"
            ]
          },
          "metadata": {},
          "execution_count": 39
        }
      ]
    }
  ]
}