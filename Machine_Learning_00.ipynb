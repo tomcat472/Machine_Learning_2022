{
  "nbformat": 4,
  "nbformat_minor": 0,
  "metadata": {
    "colab": {
      "provenance": [],
      "authorship_tag": "ABX9TyPjbl2QID4lSSBd7O0Li55S",
      "include_colab_link": true
    },
    "kernelspec": {
      "name": "python3",
      "display_name": "Python 3"
    },
    "language_info": {
      "name": "python"
    }
  },
  "cells": [
    {
      "cell_type": "markdown",
      "metadata": {
        "id": "view-in-github",
        "colab_type": "text"
      },
      "source": [
        "<a href=\"https://colab.research.google.com/github/tomcat472/Machine_Learning_2022/blob/main/Machine_Learning_00.ipynb\" target=\"_parent\"><img src=\"https://colab.research.google.com/assets/colab-badge.svg\" alt=\"Open In Colab\"/></a>"
      ]
    },
    {
      "cell_type": "markdown",
      "source": [
        "# Maching Learning(Tom Mitchell's Definition)"
      ],
      "metadata": {
        "id": "4vJgmbAGpwuQ"
      }
    },
    {
      "cell_type": "markdown",
      "source": [
        "A computer program is said to learn from **experience** *E* with respect to some class of **tasks** *T* and **performace** measure *P*, if its performace at **tasks** in T, as measured by P, improves with **experience** *E*."
      ],
      "metadata": {
        "id": "MN-q4L4dp3Nw"
      }
    },
    {
      "cell_type": "markdown",
      "source": [
        "Machine Learning is an inter-disciplinary field.\n",
        "Its combines methods and techniques from \n",
        "\n",
        "1.   Statistics\n",
        "2.   Math\n",
        "3.   Artificial Intelligence and\n",
        "4.   Computer Science to name a few\n",
        "\n"
      ],
      "metadata": {
        "id": "0ipt8VwJqeWQ"
      }
    },
    {
      "cell_type": "markdown",
      "source": [
        "M‌L မှာ အသုံးများတာက supervised learning , unsupervised learning နဲ့ reinforcement learning တို့ဖြစ်ပါတယ်။"
      ],
      "metadata": {
        "id": "mUxUD6XOq4J5"
      }
    },
    {
      "cell_type": "markdown",
      "source": [
        "Supervised Learing ဆိုတာ အလွယ်ပြောရရင်တော့ ရှိပြီးသား label ပါတဲ့ data တွေရဲ့ ဆက်နွယ်မှုတွေကို အခြေခံပြီး တွက်ထုတ်တာဖြစ်ပါတယ်။ ပြီးတော့သူ့ဆီမှာ Regression နဲ့ Classification ဆိုတဲ့ method ၂ မျိုးသုံးလို့ရပါတယ်။\n",
        "Regression ရဲ့ဥပမာတွေက predicting amount of rain/ predicting score on a test တို့လို အပြန်အလှန်ဆက်စပ်တဲ့ဟာတွေမှာ အသုံးများပါတယ်။\n",
        "Classification ကျတော့ မနက်ဖြန်မိုးရွာမှာလား မရွာဘူးလားတို့, ရလာတဲ့အဖြေတွေကို positive လား negative လားအစရှိသည်တို့ကို ခန့်မှန်းတဲ့ true,false ကို အခြေခံပါတယ်။ တခါတလေမှာ ပိုများတဲ့ဟာတွေကိုလည်း တွက်ကျပါတယ်။"
      ],
      "metadata": {
        "id": "DsMY03wirE8w"
      }
    },
    {
      "cell_type": "markdown",
      "source": [
        "Unsupervised Learning ကျတော့ ကိုယ့်လက်ထဲမှာရှိတဲ့ ဘာမှန်းမသိတဲ့ data တွေကို အမျိုးအစားတူရာတူရာကို စုပြီးခွဲတာဖြစ်ပါတယ်။ သူ့မှာ အသုံးများတာက clustering လုပ်ပြီး ခွဲတာဖြစ်ပါတယ်။ သူ့ကိုဘယ်မှာများသော အားဖြင့်သုံးလဲဆိုတော့ gis မှာဆိုရင် တောဆိုရင်တော, ရေဆိုရင်ရေ အစရှိသည့် မတူညီသည့် အချက်အလက်များကို တူရာစုဖော်ပြပါတယ်။"
      ],
      "metadata": {
        "id": "adHoL2Pvsf3g"
      }
    },
    {
      "cell_type": "markdown",
      "source": [
        "Reinforcement ကျတော့ ဆုပေး/ဒဏ်ပေးစနစ်လိုမျိုးလုပ်ပြီး သုံးသွားတာဖြစ်ပါတယ်။"
      ],
      "metadata": {
        "id": "qvj19o-itv8g"
      }
    },
    {
      "cell_type": "markdown",
      "source": [
        "## ML Process\n",
        "\n",
        "\n",
        "*   Acquire(obtain) Data\n",
        "*   Explore and Process our data\n",
        "*   Data Cleaning\n",
        "*   Feature Selection and selecting technique\n",
        "*   Model building\n",
        "*   Evaluation\n",
        "\n"
      ],
      "metadata": {
        "id": "EQbsVRoHtTmI"
      }
    }
  ]
}